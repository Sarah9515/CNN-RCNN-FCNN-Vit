{
 "cells": [
  {
   "cell_type": "code",
   "execution_count": 1,
   "metadata": {},
   "outputs": [],
   "source": [
    "import pandas as pd\n",
    "\n",
    "BASE_PATH = 'Downloads/MNIST'\n",
    "df = pd.read_csv(f'{BASE_PATH}/train.csv')\n",
    "dff = df[:3000]\n",
    "test_df = pd.read_csv(f'{BASE_PATH}/test.csv')\n",
    "# Split dataset\n",
    "train_df, valid_df = dff[:int(len(dff) * 0.8)], dff[int(len(dff) * 0.8):] "
   ]
  },
  {
   "cell_type": "code",
   "execution_count": 2,
   "metadata": {},
   "outputs": [
    {
     "data": {
      "image/png": "[encoded data removed]",
      "text/plain": [
       "<Figure size 1000x1000 with 15 Axes>"
      ]
     },
     "metadata": {},
     "output_type": "display_data"
    }
   ],
   "source": [
    "# Look at our data\n",
    "import matplotlib.pyplot as plt\n",
    "\n",
    "fig, axs = plt.subplots(nrows=3, ncols=5, figsize=(10, 10))\n",
    "\n",
    "for i, ax in enumerate(axs.flat):\n",
    "    data = train_df.iloc[i].values\n",
    "    label, img = data[0], data[1:].reshape((28,28))\n",
    "    ax.imshow(train_df.iloc[i].values[1:].reshape((28,28)), cmap='gray')\n",
    "    ax.axis('off')\n",
    "    ax.set_title(f'Digit: {label}')  \n",
    "    \n",
    "plt.tight_layout()\n",
    "plt.show()"
   ]
  },
  {
   "cell_type": "code",
   "execution_count": 1,
   "metadata": {
    "colab": {
     "base_uri": "https://localhost:8080/"
    },
    "id": "xSA9DeQ-0GJk",
    "outputId": "eed171ed-d6d0-4d8e-d123-aa94cb1495b9",
    "scrolled": true
   },
   "outputs": [
    {
     "name": "stdout",
     "output_type": "stream",
     "text": [
      "Collecting einops\n",
      "  Downloading einops-0.7.0-py3-none-any.whl (44 kB)\n",
      "\u001b[2K     \u001b[90m━━━━━━━━━━━━━━━━━━━━━━━━━━━━━━━━━━━━━━━━\u001b[0m \u001b[32m44.6/44.6 kB\u001b[0m \u001b[31m750.4 kB/s\u001b[0m eta \u001b[36m0:00:00\u001b[0m\n",
      "\u001b[?25hInstalling collected packages: einops\n",
      "Successfully installed einops-0.7.0\n"
     ]
    }
   ],
   "source": [
    "!pip install einops"
   ]
  },
  {
   "cell_type": "code",
   "execution_count": null,
   "metadata": {
    "colab": {
     "background_save": true,
     "base_uri": "https://localhost:8080/"
    },
    "id": "Ap3RzZa0yZXt",
    "outputId": "d7be3816-32df-40b4-ebe1-1a6f106fc476"
   },
   "outputs": [
    {
     "name": "stdout",
     "output_type": "stream",
     "text": [
      "Initial shape:  torch.Size([1, 3, 144, 144])\n",
      "Patches shape:  torch.Size([1, 324, 128])\n"
     ]
    }
   ],
   "source": [
    "from torch import nn\n",
    "from einops.layers.torch import Rearrange\n",
    "from torch import Tensor\n",
    "\n",
    "\n",
    "class PatchEmbedding(nn.Module):\n",
    "    def __init__(self, in_channels = 3, patch_size = 8, emb_size = 128):\n",
    "        self.patch_size = patch_size\n",
    "        super().__init__()\n",
    "        self.projection = nn.Sequential(\n",
    "            # break-down the image in s1 x s2 patches and flat them\n",
    "            Rearrange('b c (h p1) (w p2) -> b (h w) (p1 p2 c)', p1=patch_size, p2=patch_size),\n",
    "            nn.Linear(patch_size * patch_size * in_channels, emb_size)\n",
    "        )\n",
    "\n",
    "    def forward(self, x: Tensor) -> Tensor:\n",
    "        x = self.projection(x)\n",
    "        return x\n",
    "\n",
    "# Run a quick test\n",
    "sample_datapoint = torch.unsqueeze(dataset[0][0], 0)\n",
    "print(\"Initial shape: \", sample_datapoint.shape)\n",
    "embedding = PatchEmbedding()(sample_datapoint)\n",
    "print(\"Patches shape: \", embedding.shape)"
   ]
  },
  {
   "cell_type": "markdown",
   "metadata": {
    "id": "LyXkSfe84dEj"
   },
   "source": [
    "## Model"
   ]
  },
  {
   "cell_type": "markdown",
   "metadata": {
    "id": "-ohxDCNNsim0"
   },
   "source": [
    "Let's first implement all of the transformer building blocks. These blocks are inspired by the implementations linked above. I've left out some dropouts and normalizations at some places."
   ]
  },
  {
   "cell_type": "code",
   "execution_count": null,
   "metadata": {
    "colab": {
     "background_save": true
    },
    "id": "lbKH_cEt_AGF"
   },
   "outputs": [],
   "source": [
    "from einops import rearrange\n",
    "\n",
    "class Attention(nn.Module):\n",
    "    def __init__(self, dim, n_heads, dropout):\n",
    "        super().__init__()\n",
    "        self.n_heads = n_heads\n",
    "        self.att = torch.nn.MultiheadAttention(embed_dim=dim,\n",
    "                                               num_heads=n_heads,\n",
    "                                               dropout=dropout)\n",
    "        self.q = torch.nn.Linear(dim, dim)\n",
    "        self.k = torch.nn.Linear(dim, dim)\n",
    "        self.v = torch.nn.Linear(dim, dim)\n",
    "\n",
    "    def forward(self, x):\n",
    "        q = self.q(x)\n",
    "        k = self.k(x)\n",
    "        v = self.v(x)\n",
    "        attn_output, attn_output_weights = self.att(x, x, x)\n",
    "        return attn_output"
   ]
  },
  {
   "cell_type": "code",
   "execution_count": null,
   "metadata": {
    "colab": {
     "background_save": true,
     "base_uri": "https://localhost:8080/"
    },
    "id": "i_7Q0Quj_Ch8",
    "outputId": "307c1867-7e53-4ed3-f2d1-aeef89d66c53"
   },
   "outputs": [
    {
     "data": {
      "text/plain": [
       "torch.Size([1, 5, 128])"
      ]
     },
     "execution_count": 5,
     "metadata": {},
     "output_type": "execute_result"
    }
   ],
   "source": [
    "Attention(dim=128, n_heads=4, dropout=0.)(torch.ones((1, 5, 128))).shape"
   ]
  },
  {
   "cell_type": "code",
   "execution_count": null,
   "metadata": {
    "colab": {
     "background_save": true
    },
    "id": "LZIq8qATHX7p"
   },
   "outputs": [],
   "source": [
    "class PreNorm(nn.Module):\n",
    "    def __init__(self, dim, fn):\n",
    "        super().__init__()\n",
    "        self.norm = nn.LayerNorm(dim)\n",
    "        self.fn = fn\n",
    "    def forward(self, x, **kwargs):\n",
    "        return self.fn(self.norm(x), **kwargs)"
   ]
  },
  {
   "cell_type": "code",
   "execution_count": null,
   "metadata": {
    "colab": {
     "background_save": true,
     "base_uri": "https://localhost:8080/"
    },
    "id": "TpYpgqCqHcrs",
    "outputId": "3d0289a5-77f5-4eb3-8c26-a6bb3737c14b"
   },
   "outputs": [
    {
     "data": {
      "text/plain": [
       "torch.Size([1, 5, 128])"
      ]
     },
     "execution_count": 7,
     "metadata": {},
     "output_type": "execute_result"
    }
   ],
   "source": [
    "norm = PreNorm(128, Attention(dim=128, n_heads=4, dropout=0.))\n",
    "norm(torch.ones((1, 5, 128))).shape"
   ]
  },
  {
   "cell_type": "code",
   "execution_count": null,
   "metadata": {
    "colab": {
     "background_save": true,
     "base_uri": "https://localhost:8080/"
    },
    "id": "XGsxbcqxIGJg",
    "outputId": "347dec2e-bfb1-4012-c51c-498967ad24d8"
   },
   "outputs": [
    {
     "data": {
      "text/plain": [
       "torch.Size([1, 5, 128])"
      ]
     },
     "execution_count": 8,
     "metadata": {},
     "output_type": "execute_result"
    }
   ],
   "source": [
    "class FeedForward(nn.Sequential):\n",
    "    def __init__(self, dim, hidden_dim, dropout = 0.):\n",
    "        super().__init__(\n",
    "            nn.Linear(dim, hidden_dim),\n",
    "            nn.GELU(),\n",
    "            nn.Dropout(dropout),\n",
    "            nn.Linear(hidden_dim, dim),\n",
    "            nn.Dropout(dropout)\n",
    "        )\n",
    "ff = FeedForward(dim=128, hidden_dim=256)\n",
    "ff(torch.ones((1, 5, 128))).shape"
   ]
  },
  {
   "cell_type": "code",
   "execution_count": null,
   "metadata": {
    "colab": {
     "background_save": true
    },
    "id": "WuWewoFfI7Vs"
   },
   "outputs": [],
   "source": [
    "class ResidualAdd(nn.Module):\n",
    "    def __init__(self, fn):\n",
    "        super().__init__()\n",
    "        self.fn = fn\n",
    "\n",
    "    def forward(self, x, **kwargs):\n",
    "        res = x\n",
    "        x = self.fn(x, **kwargs)\n",
    "        x += res\n",
    "        return x"
   ]
  },
  {
   "cell_type": "code",
   "execution_count": null,
   "metadata": {
    "colab": {
     "background_save": true,
     "base_uri": "https://localhost:8080/"
    },
    "id": "hiv5BDUAI73N",
    "outputId": "abe76bf5-318e-4a9a-d952-ea985a199879"
   },
   "outputs": [
    {
     "data": {
      "text/plain": [
       "torch.Size([1, 5, 128])"
      ]
     },
     "execution_count": 10,
     "metadata": {},
     "output_type": "execute_result"
    }
   ],
   "source": [
    "residual_att = ResidualAdd(Attention(dim=128, n_heads=4, dropout=0.))\n",
    "residual_att(torch.ones((1, 5, 128))).shape"
   ]
  },
  {
   "cell_type": "markdown",
   "metadata": {
    "id": "qewws3-Nk7zB"
   },
   "source": [
    "- Not all parameters are like in the original implementation\n",
    "- Some Dropouts & Norms are missing"
   ]
  },
  {
   "cell_type": "code",
   "execution_count": null,
   "metadata": {
    "colab": {
     "background_save": true,
     "base_uri": "https://localhost:8080/"
    },
    "id": "KVVWmPso4eGf",
    "outputId": "1c6f8c85-50a8-4ce0-8a7b-3bc5162a5e79"
   },
   "outputs": [
    {
     "name": "stdout",
     "output_type": "stream",
     "text": [
      "ViT(\n",
      "  (patch_embedding): PatchEmbedding(\n",
      "    (projection): Sequential(\n",
      "      (0): Rearrange('b c (h p1) (w p2) -> b (h w) (p1 p2 c)', p1=4, p2=4)\n",
      "      (1): Linear(in_features=48, out_features=32, bias=True)\n",
      "    )\n",
      "  )\n",
      "  (layers): ModuleList(\n",
      "    (0-5): 6 x Sequential(\n",
      "      (0): ResidualAdd(\n",
      "        (fn): PreNorm(\n",
      "          (norm): LayerNorm((32,), eps=1e-05, elementwise_affine=True)\n",
      "          (fn): Attention(\n",
      "            (att): MultiheadAttention(\n",
      "              (out_proj): NonDynamicallyQuantizableLinear(in_features=32, out_features=32, bias=True)\n",
      "            )\n",
      "            (q): Linear(in_features=32, out_features=32, bias=True)\n",
      "            (k): Linear(in_features=32, out_features=32, bias=True)\n",
      "            (v): Linear(in_features=32, out_features=32, bias=True)\n",
      "          )\n",
      "        )\n",
      "      )\n",
      "      (1): ResidualAdd(\n",
      "        (fn): PreNorm(\n",
      "          (norm): LayerNorm((32,), eps=1e-05, elementwise_affine=True)\n",
      "          (fn): FeedForward(\n",
      "            (0): Linear(in_features=32, out_features=32, bias=True)\n",
      "            (1): GELU(approximate='none')\n",
      "            (2): Dropout(p=0.1, inplace=False)\n",
      "            (3): Linear(in_features=32, out_features=32, bias=True)\n",
      "            (4): Dropout(p=0.1, inplace=False)\n",
      "          )\n",
      "        )\n",
      "      )\n",
      "    )\n",
      "  )\n",
      "  (head): Sequential(\n",
      "    (0): LayerNorm((32,), eps=1e-05, elementwise_affine=True)\n",
      "    (1): Linear(in_features=32, out_features=37, bias=True)\n",
      "  )\n",
      ")\n"
     ]
    },
    {
     "data": {
      "text/plain": [
       "tensor([[-0.2922, -0.2278, -0.0405, -1.2770,  0.2247, -1.0633, -0.8549, -0.4204,\n",
       "          0.6548, -0.8331, -0.0491,  0.9173, -0.4764,  0.2259,  0.0046, -0.8247,\n",
       "          0.1699, -0.0100, -0.0658,  0.0083,  0.2493,  1.1760, -0.2848, -0.9299,\n",
       "          0.0572, -0.2976,  0.2318, -0.3791, -0.1084, -0.0449, -0.1764, -0.5191,\n",
       "          0.1529, -0.2197,  0.0038,  0.6986,  0.0403]],\n",
       "       grad_fn=<AddmmBackward0>)"
      ]
     },
     "execution_count": 11,
     "metadata": {},
     "output_type": "execute_result"
    }
   ],
   "source": [
    "from einops import repeat\n",
    "\n",
    "class ViT(nn.Module):\n",
    "    def __init__(self, ch=3, img_size=144, patch_size=4, emb_dim=32,\n",
    "                n_layers=6, out_dim=37, dropout=0.1, heads=2):\n",
    "        super(ViT, self).__init__()\n",
    "\n",
    "        # Attributes\n",
    "        self.channels = ch\n",
    "        self.height = img_size\n",
    "        self.width = img_size\n",
    "        self.patch_size = patch_size\n",
    "        self.n_layers = n_layers\n",
    "\n",
    "        # Patching\n",
    "        self.patch_embedding = PatchEmbedding(in_channels=ch,\n",
    "                                              patch_size=patch_size,\n",
    "                                              emb_size=emb_dim)\n",
    "        # Learnable params\n",
    "        num_patches = (img_size // patch_size) ** 2\n",
    "        self.pos_embedding = nn.Parameter(\n",
    "            torch.randn(1, num_patches + 1, emb_dim))\n",
    "        self.cls_token = nn.Parameter(torch.rand(1, 1, emb_dim))\n",
    "\n",
    "        # Transformer Encoder\n",
    "        self.layers = nn.ModuleList([])\n",
    "        for _ in range(n_layers):\n",
    "            transformer_block = nn.Sequential(\n",
    "                ResidualAdd(PreNorm(emb_dim, Attention(emb_dim, n_heads = heads, dropout = dropout))),\n",
    "                ResidualAdd(PreNorm(emb_dim, FeedForward(emb_dim, emb_dim, dropout = dropout))))\n",
    "            self.layers.append(transformer_block)\n",
    "\n",
    "        # Classification head\n",
    "        self.head = nn.Sequential(nn.LayerNorm(emb_dim), nn.Linear(emb_dim, out_dim))\n",
    "\n",
    "\n",
    "    def forward(self, img):\n",
    "        # Get patch embedding vectors\n",
    "        x = self.patch_embedding(img)\n",
    "        b, n, _ = x.shape\n",
    "\n",
    "        # Add cls token to inputs\n",
    "        cls_tokens = repeat(self.cls_token, '1 1 d -> b 1 d', b = b)\n",
    "        x = torch.cat([cls_tokens, x], dim=1)\n",
    "        x += self.pos_embedding[:, :(n + 1)]\n",
    "\n",
    "        # Transformer layers\n",
    "        for i in range(self.n_layers):\n",
    "            x = self.layers[i](x)\n",
    "\n",
    "        # Output based on classification token\n",
    "        return self.head(x[:, 0, :])\n",
    "\n",
    "\n",
    "model = ViT()\n",
    "print(model)\n",
    "model(torch.ones((1, 3, 144, 144)))\n"
   ]
  },
  {
   "cell_type": "markdown",
   "metadata": {
    "id": "j6j2tczm4fGs"
   },
   "source": [
    "## Training"
   ]
  },
  {
   "cell_type": "code",
   "execution_count": null,
   "metadata": {
    "colab": {
     "background_save": true
    },
    "id": "FsdvFNcr4iFj"
   },
   "outputs": [],
   "source": [
    "from torch.utils.data import DataLoader\n",
    "from torch.utils.data import random_split\n",
    "\n",
    "train_split = int(0.8 * len(dataset))\n",
    "train, test = random_split(dataset, [train_split, len(dataset) - train_split])\n",
    "\n",
    "train_dataloader = DataLoader(train, batch_size=32, shuffle=True)\n",
    "test_dataloader = DataLoader(test, batch_size=32, shuffle=True)"
   ]
  },
  {
   "cell_type": "code",
   "execution_count": null,
   "metadata": {
    "colab": {
     "base_uri": "https://localhost:8080/"
    },
    "id": "N-Q_3rEJSOfA",
    "outputId": "6c88d66f-fb6a-4fa3-c78c-8610add43bad"
   },
   "outputs": [
    {
     "name": "stdout",
     "output_type": "stream",
     "text": [
      ">>> Epoch 0 train loss:  3.6508754025334897\n",
      ">>> Epoch 0 test loss:  3.6382168272267217\n",
      ">>> Epoch 5 train loss:  3.626315210176551\n",
      ">>> Epoch 5 test loss:  3.6225407641866934\n",
      ">>> Epoch 10 train loss:  3.620842220990554\n",
      ">>> Epoch 10 test loss:  3.625303620877473\n",
      ">>> Epoch 15 train loss:  3.621863606183425\n",
      ">>> Epoch 15 test loss:  3.62233012655507\n",
      ">>> Epoch 20 train loss:  3.6195932367573613\n",
      ">>> Epoch 20 test loss:  3.6210498187852944\n"
     ]
    }
   ],
   "source": [
    "import torch.optim as optim\n",
    "import numpy as np\n",
    "\n",
    "device = \"cuda\"y\n",
    "model = ViT().to(device)\n",
    "optimizer = optim.AdamW(model.parameters(), lr=0.001)\n",
    "criterion = nn.CrossEntropyLoss()\n",
    "\n",
    "for epoch in range(1000):\n",
    "    epoch_losses = []\n",
    "    model.train()\n",
    "    for step, (inputs, labels) in enumerate(train_dataloader):\n",
    "        inputs, labels = inputs.to(device), labels.to(device)\n",
    "        optimizer.zero_grad()\n",
    "        outputs = model(inputs)\n",
    "        loss = criterion(outputs, labels)\n",
    "        loss.backward()\n",
    "        optimizer.step()\n",
    "        epoch_losses.append(loss.item())\n",
    "    if epoch % 5 == 0:\n",
    "        print(f\">>> Epoch {epoch} train loss: \", np.mean(epoch_losses))\n",
    "        epoch_losses = []\n",
    "        # Something was strange when using this?\n",
    "        # model.eval()\n",
    "        for step, (inputs, labels) in enumerate(test_dataloader):\n",
    "            inputs, labels = inputs.to(device), labels.to(device)\n",
    "            outputs = model(inputs)\n",
    "            loss = criterion(outputs, labels)\n",
    "            epoch_losses.append(loss.item())\n",
    "        print(f\">>> Epoch {epoch} test loss: \", np.mean(epoch_losses))"
   ]
  },
  {
   "cell_type": "code",
   "execution_count": null,
   "metadata": {
    "colab": {
     "base_uri": "https://localhost:8080/"
    },
    "id": "V7LkzG6fOt_k",
    "outputId": "10e5aacc-094a-4554-b4ec-4696fefaeae6"
   },
   "outputs": [
    {
     "name": "stdout",
     "output_type": "stream",
     "text": [
      "Predicted classes tensor([26, 33, 15, 33, 19, 15, 19, 19], device='cuda:0')\n",
      "Actual classes tensor([32, 22, 23, 23, 20, 13, 31, 12], device='cuda:0')\n"
     ]
    }
   ],
   "source": [
    "inputs, labels = next(iter(test_dataloader))\n",
    "inputs, labels = inputs.to(device), labels.to(device)\n",
    "outputs = model(inputs)\n",
    "\n",
    "print(\"Predicted classes\", outputs.argmax(-1))\n",
    "print(\"Actual classes\", labels)"
   ]
  },
  {
   "cell_type": "markdown",
   "metadata": {
    "id": "sM9VzohRCrC_"
   },
   "source": [
    "This needs to train much longer :)"
   ]
  }
 ],
 "metadata": {
  "accelerator": "GPU",
  "colab": {
   "provenance": []
  },
  "kernelspec": {
   "display_name": "Python 3 (ipykernel)",
   "language": "python",
   "name": "python3"
  },
  "language_info": {
   "codemirror_mode": {
    "name": "ipython",
    "version": 3
   },
   "file_extension": ".py",
   "mimetype": "text/x-python",
   "name": "python",
   "nbconvert_exporter": "python",
   "pygments_lexer": "ipython3",
   "version": "3.11.5"
  }
 },
 "nbformat": 4,
 "nbformat_minor": 1
}
